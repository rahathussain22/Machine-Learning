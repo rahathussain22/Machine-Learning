{
 "cells": [
  {
   "cell_type": "code",
   "execution_count": 1,
   "id": "5e1df35b-0575-42c0-8d20-7b9e2bda8f8d",
   "metadata": {},
   "outputs": [],
   "source": [
    "import math\n",
    "\n",
    "# 1. Mean Squared Error (MSE)\n",
    "def mean_squared_error(y_true, y_pred):\n",
    "    n = len(y_true)\n",
    "    mse = sum((y_true[i] - y_pred[i]) ** 2 for i in range(n)) / n\n",
    "    return mse"
   ]
  },
  {
   "cell_type": "code",
   "execution_count": 2,
   "id": "85c8fe77-9c17-42ab-85aa-a632facf91c1",
   "metadata": {},
   "outputs": [],
   "source": [
    "def root_mean_squared_error(y_true, y_pred):\n",
    "    return math.sqrt(mean_squared_error(y_true, y_pred))"
   ]
  },
  {
   "cell_type": "code",
   "execution_count": 3,
   "id": "1a8b6296-e18a-4cea-ac50-bbf85c5dadc3",
   "metadata": {},
   "outputs": [],
   "source": [
    "def compute_cosine_similarity(vector1, vector2):\n",
    "    dot_product = sum(vector1[i] * vector2[i] for i in range(len(vector1)))\n",
    "    magnitude1 = math.sqrt(sum(vector1[i] ** 2 for i in range(len(vector1))))\n",
    "    magnitude2 = math.sqrt(sum(vector2[i] ** 2 for i in range(len(vector2))))\n",
    "    return dot_product / (magnitude1 * magnitude2) if magnitude1 and magnitude2 else 0"
   ]
  },
  {
   "cell_type": "code",
   "execution_count": 4,
   "id": "485d2f90-3028-49aa-9a7d-788f3e406645",
   "metadata": {},
   "outputs": [],
   "source": [
    "# 4. Linear Regression (Simple)\n",
    "def train_linear_regression(X, y):\n",
    "    n = len(X)\n",
    "    sum_x = sum(X)\n",
    "    sum_y = sum(y)\n",
    "    sum_xy = sum(X[i] * y[i] for i in range(n))\n",
    "    sum_x2 = sum(X[i] ** 2 for i in range(n))\n",
    "\n",
    "    # Calculating slope (m) and intercept (b) using the least squares method\n",
    "    m = (n * sum_xy - sum_x * sum_y) / (n * sum_x2 - sum_x ** 2)\n",
    "    b = (sum_y - m * sum_x) / n\n",
    "    return m, b"
   ]
  },
  {
   "cell_type": "code",
   "execution_count": 5,
   "id": "faa038a1-def8-45b7-b00c-a012a613f493",
   "metadata": {},
   "outputs": [],
   "source": [
    "# 5. Softmax Function\n",
    "def softmax(values):\n",
    "    exp_values = [math.exp(v - max(values)) for v in values]  # Stability trick\n",
    "    sum_exp = sum(exp_values)\n",
    "    return [v / sum_exp for v in exp_values]"
   ]
  },
  {
   "cell_type": "code",
   "execution_count": 7,
   "id": "403222be-7a40-4f6f-bc6f-f2d7863d49be",
   "metadata": {},
   "outputs": [
    {
     "name": "stdout",
     "output_type": "stream",
     "text": [
      "MSE: 0.375\n",
      "RMSE: 0.6123724356957945\n",
      "Cosine Similarity: 0.9746318461970762\n",
      "Linear Regression Slope: 2.0 Intercept: 0.0\n",
      "Softmax Output: [0.6590011388859679, 0.24243297070471392, 0.09856589040931818]\n"
     ]
    }
   ],
   "source": [
    "    y_true = [3, -0.5, 2, 7]\n",
    "    y_pred = [2.5, 0.0, 2, 8]\n",
    "\n",
    "    print(\"MSE:\", mean_squared_error(y_true, y_pred))\n",
    "    print(\"RMSE:\", root_mean_squared_error(y_true, y_pred))\n",
    "\n",
    "    vec1 = [1, 2, 3]\n",
    "    vec2 = [4, 5, 6]\n",
    "    print(\"Cosine Similarity:\", compute_cosine_similarity(vec1, vec2))\n",
    "\n",
    "    X_train = [1, 2, 3, 4]\n",
    "    y_train = [2, 4, 6, 8]\n",
    "    slope, intercept = train_linear_regression(X_train, y_train)\n",
    "    print(\"Linear Regression Slope:\", slope, \"Intercept:\", intercept)\n",
    "\n",
    "    logits = [2.0, 1.0, 0.1]\n",
    "    print(\"Softmax Output:\", softmax(logits))"
   ]
  },
  {
   "cell_type": "code",
   "execution_count": null,
   "id": "06fa39ee-f515-49c6-9642-d27e568c8f4b",
   "metadata": {},
   "outputs": [],
   "source": []
  }
 ],
 "metadata": {
  "kernelspec": {
   "display_name": "Python 3 (ipykernel)",
   "language": "python",
   "name": "python3"
  },
  "language_info": {
   "codemirror_mode": {
    "name": "ipython",
    "version": 3
   },
   "file_extension": ".py",
   "mimetype": "text/x-python",
   "name": "python",
   "nbconvert_exporter": "python",
   "pygments_lexer": "ipython3",
   "version": "3.11.7"
  }
 },
 "nbformat": 4,
 "nbformat_minor": 5
}
