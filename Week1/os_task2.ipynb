{
 "cells": [
  {
   "cell_type": "code",
   "execution_count": 1,
   "id": "c11b1d7d-b10e-41b1-8142-add2bfb1e446",
   "metadata": {},
   "outputs": [],
   "source": [
    "def mean(numbers):\n",
    "    return sum(numbers) / len(numbers)"
   ]
  },
  {
   "cell_type": "code",
   "execution_count": 2,
   "id": "5274d98c-9d72-4f2d-baa7-51231311e952",
   "metadata": {},
   "outputs": [],
   "source": [
    "def median(numbers):\n",
    "    numbers.sort()\n",
    "    n = len(numbers)\n",
    "    mid = n // 2\n",
    "    if n % 2 == 0:\n",
    "        return (numbers[mid - 1] + numbers[mid]) / 2\n",
    "    else:\n",
    "        return numbers[mid]\n",
    "def mode(numbers):\n",
    "    frequency = {}\n",
    "    for num in numbers:\n",
    "        frequency[num] = frequency.get(num, 0) + 1\n",
    "    max_count = max(frequency.values())\n",
    "    modes = [key for key, value in frequency.items() if value == max_count]\n",
    "    return modes if len(modes) > 1 else modes[0]"
   ]
  },
  {
   "cell_type": "code",
   "execution_count": 3,
   "id": "36844167-80b4-4513-b33b-1b8f3dff7ff4",
   "metadata": {},
   "outputs": [],
   "source": [
    "def variance(numbers):\n",
    "    m = mean(numbers)\n",
    "    return sum((x - m) ** 2 for x in numbers) / len(numbers)"
   ]
  },
  {
   "cell_type": "code",
   "execution_count": 4,
   "id": "f5b55b05-da28-4856-b820-e1cc61971a47",
   "metadata": {},
   "outputs": [],
   "source": [
    "def standard_deviation(numbers):\n",
    "    return variance(numbers) ** 0.5"
   ]
  },
  {
   "cell_type": "code",
   "execution_count": 8,
   "id": "9c9175e6-06e4-4569-9398-f10515952073",
   "metadata": {},
   "outputs": [],
   "source": [
    "def euclidean_distance(list1, list2):\n",
    "    if len(list1) != len(list2):\n",
    "        raise ValueError(\"Both lists must have the same length.\")\n",
    "    \n",
    "    distance = sum((x - y) ** 2 for x, y in zip(list1, list2)) ** 0.5\n",
    "    return distance"
   ]
  },
  {
   "cell_type": "code",
   "execution_count": 6,
   "id": "9df533b8-1325-4998-8237-9bd509ef1204",
   "metadata": {},
   "outputs": [],
   "source": [
    "def sigmoid(x):\n",
    "    return 1 / (1 + (2.718281828459045 ** -x))"
   ]
  },
  {
   "cell_type": "code",
   "execution_count": 9,
   "id": "2e41609e-250c-4ea2-86ce-3c71cf0db457",
   "metadata": {},
   "outputs": [
    {
     "name": "stdout",
     "output_type": "stream",
     "text": [
      "Mean: 3.6666666666666665\n",
      "Median: 4\n",
      "Mode: 5\n",
      "Variance: 2.6666666666666665\n",
      "Standard Deviation: 1.632993161855452\n",
      "Euclidean Distance (numbers, numbers): 14.38749456993816\n",
      "Sigmoid(0): 0.5\n"
     ]
    }
   ],
   "source": [
    "numbers = [1, 2, 2, 3, 4, 5, 5, 5, 6]\n",
    "list2 = [9, 12, 3, 5, 1, 2, 7, 5, 10]\n",
    "\n",
    "print(\"Mean:\", mean(numbers))\n",
    "print(\"Median:\", median(numbers))\n",
    "print(\"Mode:\", mode(numbers))\n",
    "print(\"Variance:\", variance(numbers))\n",
    "print(\"Standard Deviation:\", standard_deviation(numbers))\n",
    "print(\"Euclidean Distance (numbers, numbers):\", euclidean_distance(numbers, list2))\n",
    "print(\"Sigmoid(0):\", sigmoid(0))"
   ]
  },
  {
   "cell_type": "code",
   "execution_count": null,
   "id": "62d159b4-7921-4098-91d2-96652894be21",
   "metadata": {},
   "outputs": [],
   "source": []
  }
 ],
 "metadata": {
  "kernelspec": {
   "display_name": "Python 3 (ipykernel)",
   "language": "python",
   "name": "python3"
  },
  "language_info": {
   "codemirror_mode": {
    "name": "ipython",
    "version": 3
   },
   "file_extension": ".py",
   "mimetype": "text/x-python",
   "name": "python",
   "nbconvert_exporter": "python",
   "pygments_lexer": "ipython3",
   "version": "3.11.7"
  }
 },
 "nbformat": 4,
 "nbformat_minor": 5
}
