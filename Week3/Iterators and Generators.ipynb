{
 "cells": [
  {
   "cell_type": "code",
   "execution_count": 1,
   "id": "938c20fc-ad5e-4b16-8816-5fe5c9045e3f",
   "metadata": {},
   "outputs": [
    {
     "name": "stdout",
     "output_type": "stream",
     "text": [
      "1\n",
      "2\n",
      "3\n",
      "4\n",
      "5\n"
     ]
    }
   ],
   "source": [
    "# creating a custom iterator\n",
    "class CountUpTo:\n",
    "    def __init__(self, max_val):\n",
    "        self.max_val = max_val\n",
    "        self.current = 1\n",
    "\n",
    "    def __iter__(self):\n",
    "        return self\n",
    "\n",
    "    def __next__(self):\n",
    "        if self.current > self.max_val:\n",
    "            raise StopIteration\n",
    "        else:\n",
    "            val = self.current\n",
    "            self.current += 1\n",
    "            return val\n",
    "\n",
    "# Usage\n",
    "counter = CountUpTo(5)\n",
    "for num in counter:\n",
    "    print(num)\n"
   ]
  },
  {
   "cell_type": "code",
   "execution_count": 3,
   "id": "6a810a52-e5f7-4b4a-988c-ea07621203b4",
   "metadata": {},
   "outputs": [
    {
     "name": "stdout",
     "output_type": "stream",
     "text": [
      "apple\n",
      "banana\n",
      "cherry\n"
     ]
    }
   ],
   "source": [
    "# converting an iterable to iterator\n",
    "sample_list = ['apple', 'banana', 'cherry']\n",
    "iterator = iter(sample_list)\n",
    "\n",
    "print(next(iterator))\n",
    "print(next(iterator))\n",
    "print(next(iterator))\n",
    "\n",
    "\n"
   ]
  },
  {
   "cell_type": "code",
   "execution_count": 4,
   "id": "33230183-928b-4e0b-8610-68f4e6ed31cd",
   "metadata": {},
   "outputs": [
    {
     "name": "stdout",
     "output_type": "stream",
     "text": [
      "5\n",
      "4\n",
      "3\n",
      "2\n",
      "1\n"
     ]
    }
   ],
   "source": [
    "# generator using yeild\n",
    "def countdown(n):\n",
    "    while n > 0:\n",
    "        yield n\n",
    "        n -= 1\n",
    "\n",
    "for val in countdown(5):\n",
    "    print(val)\n"
   ]
  },
  {
   "cell_type": "code",
   "execution_count": 5,
   "id": "e6153b9c-681f-490d-868c-0c214eae4b5f",
   "metadata": {},
   "outputs": [
    {
     "name": "stdout",
     "output_type": "stream",
     "text": [
      "1\n",
      "4\n",
      "9\n",
      "16\n",
      "25\n"
     ]
    }
   ],
   "source": [
    "squares = (x*x for x in range(1, 6))\n",
    "for val in squares:\n",
    "    print(val)\n"
   ]
  },
  {
   "cell_type": "code",
   "execution_count": 6,
   "id": "5fbfdaf7-59f9-4413-b03a-43f3d3c7b8ce",
   "metadata": {},
   "outputs": [
    {
     "name": "stdout",
     "output_type": "stream",
     "text": [
      "Hello\n",
      "How are you?\n",
      "Goodbye\n"
     ]
    }
   ],
   "source": [
    "def greetings():\n",
    "    yield \"Hello\"\n",
    "    yield \"How are you?\"\n",
    "    yield \"Goodbye\"\n",
    "\n",
    "greet = greetings()\n",
    "print(next(greet))\n",
    "print(next(greet))\n",
    "print(next(greet))\n",
    "# print(next(greet))  # Will raise StopIteration\n"
   ]
  },
  {
   "cell_type": "code",
   "execution_count": 7,
   "id": "183453fc-0b4a-4a6c-b88a-72c91c0c2bb1",
   "metadata": {},
   "outputs": [
    {
     "name": "stdout",
     "output_type": "stream",
     "text": [
      "0\n",
      "200000\n",
      "400000\n",
      "600000\n",
      "800000\n"
     ]
    }
   ],
   "source": [
    "def big_range(n):\n",
    "    for i in range(n):\n",
    "        yield i\n",
    "\n",
    "# Efficiently handle large data\n",
    "for i in big_range(1000000):\n",
    "    if i % 200000 == 0:\n",
    "        print(i)\n"
   ]
  },
  {
   "cell_type": "code",
   "execution_count": 8,
   "id": "a450b445-1545-47d2-bb20-7aa251f33c2c",
   "metadata": {},
   "outputs": [
    {
     "name": "stdout",
     "output_type": "stream",
     "text": [
      "1\n",
      "2\n",
      "4\n",
      "5\n",
      "10\n",
      "20\n"
     ]
    }
   ],
   "source": [
    "def factors(n):\n",
    "    for i in range(1, n + 1):\n",
    "        if n % i == 0:\n",
    "            yield i\n",
    "\n",
    "for f in factors(20):\n",
    "    print(f)\n"
   ]
  },
  {
   "cell_type": "code",
   "execution_count": 9,
   "id": "9e7d120f-eb93-4a7d-91bc-cdc98e49c4d8",
   "metadata": {},
   "outputs": [
    {
     "name": "stdout",
     "output_type": "stream",
     "text": [
      "List size: 8856\n",
      "Generator size: 208\n"
     ]
    }
   ],
   "source": [
    "import sys\n",
    "\n",
    "def square_list(n):\n",
    "    return [i * i for i in range(n)]\n",
    "\n",
    "def square_gen(n):\n",
    "    for i in range(n):\n",
    "        yield i * i\n",
    "\n",
    "print(\"List size:\", sys.getsizeof(square_list(1000)))\n",
    "print(\"Generator size:\", sys.getsizeof(square_gen(1000)))\n"
   ]
  },
  {
   "cell_type": "code",
   "execution_count": null,
   "id": "0de692b2-7bce-4341-b65b-acb14d78cce3",
   "metadata": {},
   "outputs": [],
   "source": []
  }
 ],
 "metadata": {
  "kernelspec": {
   "display_name": "Python 3 (ipykernel)",
   "language": "python",
   "name": "python3"
  },
  "language_info": {
   "codemirror_mode": {
    "name": "ipython",
    "version": 3
   },
   "file_extension": ".py",
   "mimetype": "text/x-python",
   "name": "python",
   "nbconvert_exporter": "python",
   "pygments_lexer": "ipython3",
   "version": "3.11.7"
  }
 },
 "nbformat": 4,
 "nbformat_minor": 5
}
